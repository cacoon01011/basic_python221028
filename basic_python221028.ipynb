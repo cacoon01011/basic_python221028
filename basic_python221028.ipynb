{
  "nbformat": 4,
  "nbformat_minor": 0,
  "metadata": {
    "colab": {
      "provenance": [],
      "authorship_tag": "ABX9TyN2vlZphlYFhIUzyGV/oSLL",
      "include_colab_link": true
    },
    "kernelspec": {
      "name": "python3",
      "display_name": "Python 3"
    },
    "language_info": {
      "name": "python"
    }
  },
  "cells": [
    {
      "cell_type": "markdown",
      "metadata": {
        "id": "view-in-github",
        "colab_type": "text"
      },
      "source": [
        "<a href=\"https://colab.research.google.com/github/cacoon01011/basic_python221028/blob/main/basic_python221028.ipynb\" target=\"_parent\"><img src=\"https://colab.research.google.com/assets/colab-badge.svg\" alt=\"Open In Colab\"/></a>"
      ]
    },
    {
      "cell_type": "markdown",
      "source": [
        "1. 사용자로부터 두개의 정수를 받은 정수의 합, 정수의차, 정수의 곱, 큰수, 작은 수를 계산하여 화면에 출력하는 프로그랩을 작성하라"
      ],
      "metadata": {
        "id": "Asv3aTZ_dmvr"
      }
    },
    {
      "cell_type": "code",
      "execution_count": 3,
      "metadata": {
        "colab": {
          "base_uri": "https://localhost:8080/"
        },
        "id": "6aa7N3ibaPUN",
        "outputId": "781ee1d2-3d03-4a0e-f843-1c28b28f7fc4"
      },
      "outputs": [
        {
          "output_type": "stream",
          "name": "stdout",
          "text": [
            "x의 값은? :9\n",
            "y의 값은? :6\n",
            "두 수의 합 : 15\n",
            "두 수의 차 : 3\n",
            "두 수의 곱 : 54\n",
            "두 수의 평균 : 7.5\n",
            "큰 수는? : 9\n",
            "작은 수는? : 6\n"
          ]
        }
      ],
      "source": [
        "x = int(input(\"x의 값은? :\"))\n",
        "y = int(input(\"y의 값은? :\"))\n",
        "\n",
        "print(\"두 수의 합 :\", x + y)\n",
        "print(\"두 수의 차 :\", x - y)\n",
        "print(\"두 수의 곱 :\", x * y)\n",
        "print(\"두 수의 평균 :\", (x + y)/2)\n",
        "print(\"큰 수는? :\", max(x,y))\n",
        "print(\"작은 수는? :\", min(x,y))"
      ]
    },
    {
      "cell_type": "markdown",
      "source": [
        "2. 원기둥의 부피를 계산하는 프로그램을 작성해 보자. 원기둥의 푸피는 다음과 같이 계산한다.(계산식은 3.141592 * r**2 * h)"
      ],
      "metadata": {
        "id": "j--CuVM2doZT"
      }
    },
    {
      "cell_type": "code",
      "source": [
        "r = float(input(\"r값은? :\"))\n",
        "h = float(input(\"h값은? :\"))\n",
        "\n",
        "vol = 3.141592 * r**2 * h\n",
        "print(\"원기둥의 부피 :\", vol)"
      ],
      "metadata": {
        "colab": {
          "base_uri": "https://localhost:8080/"
        },
        "id": "eRshF7gNcfVM",
        "outputId": "1098bd17-c425-4c61-8ad7-bde53c9a7eac"
      },
      "execution_count": 4,
      "outputs": [
        {
          "output_type": "stream",
          "name": "stdout",
          "text": [
            "r값은? :10\n",
            "h값은? :10\n",
            "원기둥의 부피 : 3141.592\n"
          ]
        }
      ]
    },
    {
      "cell_type": "markdown",
      "source": [
        "3. 사용자로부터 정수를 받아, 정수의 자리수와 자리수의 합을 계산하는 프로개름을 작성하여 보자. 예를들어서 사용자가 1234를 입력하였다면 1+2+3+4를 계산하면 된다."
      ],
      "metadata": {
        "id": "w22woCbleXWP"
      }
    },
    {
      "cell_type": "code",
      "source": [
        "number = int(input(\"정수를 입력하시오 : \"))\n",
        "\n",
        "sum = 0\n",
        "sum = sum + number % 10\n",
        "number = number // 10\n",
        "sum = sum + number % 10\n",
        "number = number // 10\n",
        "sum = sum + number % 10\n",
        "number = number // 10\n",
        "sum = sum + number % 10\n",
        "number = number // 10\n",
        "\n",
        "print(\"자리수의 합은 : \", str(sum))"
      ],
      "metadata": {
        "colab": {
          "base_uri": "https://localhost:8080/"
        },
        "id": "o6kQ0fLAfIZu",
        "outputId": "c650bec1-fae2-412f-b70a-d300f83b1203"
      },
      "execution_count": 6,
      "outputs": [
        {
          "output_type": "stream",
          "name": "stdout",
          "text": [
            "정수를 입력하시오 : 1234\n",
            "자리수의 합은 :  10\n"
          ]
        }
      ]
    },
    {
      "cell_type": "markdown",
      "source": [
        "4. 사용자로부터 두점의 좌표 (x1,y1)과 (x2,y2) 를 입력받아서 두 점사이의 거리를 계산하는 프로그램을 작성해보자\\"
      ],
      "metadata": {
        "id": "7LVOB5Swhx7o"
      }
    },
    {
      "cell_type": "code",
      "source": [
        "x1 = int(input(\"x1값을 입력하시오 : \"))\n",
        "x2 = int(input(\"x2값을 입력하시오 : \"))\n",
        "y1 = int(input(\"y1값을 입력하시오 : \"))\n",
        "y2 = int(input(\"y2값을 입력하시오 : \"))\n",
        "dist = ((x2 - x1) **2 + (y2 - y1) **2) **0.5\n",
        "print(\"두 점사이의 거리는? :\" , dist )"
      ],
      "metadata": {
        "colab": {
          "base_uri": "https://localhost:8080/"
        },
        "id": "-3fjvZB7hxvO",
        "outputId": "d27ff683-1c73-405f-9d86-a655624e30e9"
      },
      "execution_count": 10,
      "outputs": [
        {
          "output_type": "stream",
          "name": "stdout",
          "text": [
            "x1값을 입력하시오 : 0\n",
            "x2값을 입력하시오 : 100\n",
            "y1값을 입력하시오 : 0\n",
            "y2값을 입력하시오 : 100\n",
            "두 점사이의 거리는? : 141.4213562373095\n"
          ]
        }
      ]
    },
    {
      "cell_type": "markdown",
      "source": [
        "5. 4번문제에서 계산한 거리가 맞는지 터틀그래픽으로 확인해보자."
      ],
      "metadata": {
        "id": "RZ-2rFqcm-O9"
      }
    },
    {
      "cell_type": "code",
      "source": [
        "import turtle\n",
        "t = turtle.Turtle()\n",
        "t.shape(\"turtle\")\n",
        "t.lt(45)\n",
        "t.fd(141)\n",
        "t.setheading(0)\n",
        "t.goto(0,0)\n",
        "t.fd(100)\n",
        "t.lt(90)\n",
        "t.fd(100)"
      ],
      "metadata": {
        "id": "byRPpA_OncmO"
      },
      "execution_count": null,
      "outputs": []
    }
  ]
}