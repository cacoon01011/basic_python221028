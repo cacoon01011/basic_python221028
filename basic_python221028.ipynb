{
  "nbformat": 4,
  "nbformat_minor": 0,
  "metadata": {
    "colab": {
      "provenance": [],
      "authorship_tag": "ABX9TyMFSx3yCpvge7NpS9CY3MIj",
      "include_colab_link": true
    },
    "kernelspec": {
      "name": "python3",
      "display_name": "Python 3"
    },
    "language_info": {
      "name": "python"
    }
  },
  "cells": [
    {
      "cell_type": "markdown",
      "metadata": {
        "id": "view-in-github",
        "colab_type": "text"
      },
      "source": [
        "<a href=\"https://colab.research.google.com/github/cacoon01011/basic_python221028/blob/main/basic_python221028.ipynb\" target=\"_parent\"><img src=\"https://colab.research.google.com/assets/colab-badge.svg\" alt=\"Open In Colab\"/></a>"
      ]
    },
    {
      "cell_type": "code",
      "execution_count": 3,
      "metadata": {
        "colab": {
          "base_uri": "https://localhost:8080/"
        },
        "id": "6aa7N3ibaPUN",
        "outputId": "781ee1d2-3d03-4a0e-f843-1c28b28f7fc4"
      },
      "outputs": [
        {
          "output_type": "stream",
          "name": "stdout",
          "text": [
            "x의 값은? :9\n",
            "y의 값은? :6\n",
            "두 수의 합 : 15\n",
            "두 수의 차 : 3\n",
            "두 수의 곱 : 54\n",
            "두 수의 평균 : 7.5\n",
            "큰 수는? : 9\n",
            "작은 수는? : 6\n"
          ]
        }
      ],
      "source": [
        "x = int(input(\"x의 값은? :\"))\n",
        "y = int(input(\"y의 값은? :\"))\n",
        "\n",
        "print(\"두 수의 합 :\", x + y)\n",
        "print(\"두 수의 차 :\", x - y)\n",
        "print(\"두 수의 곱 :\", x * y)\n",
        "print(\"두 수의 평균 :\", (x + y)/2)\n",
        "print(\"큰 수는? :\", max(x,y))\n",
        "print(\"작은 수는? :\", min(x,y))"
      ]
    }
  ]
}